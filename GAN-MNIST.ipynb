{
 "cells": [
  {
   "cell_type": "markdown",
   "metadata": {},
   "source": [
    "# Building a GAN for creating random handwritten digits\n",
    "This notebook trains a gan which is able to generate handwirtten digits using the MNIST dataset. This notebook is inspired by [this](https://medium.com/towards-data-science/gan-by-example-using-keras-on-tensorflow-backend-1a6d515a60d0) blog post.\n",
    "\n",
    "![](media/gan_mnist.png)"
   ]
  },
  {
   "cell_type": "code",
   "execution_count": 28,
   "metadata": {
    "collapsed": false
   },
   "outputs": [],
   "source": [
    "import keras\n",
    "\n",
    "from keras.models import Sequential\n",
    "\n",
    "from keras.layers import Conv2D, Flatten, Dropout, Dense, UpSampling2D, Reshape\n",
    "from keras.layers import Conv2DTranspose, Activation, BatchNormalization\n",
    "from keras.layers.advanced_activations import LeakyReLU\n",
    "from keras.optimizers import RMSprop\n",
    "\n",
    "from tensorflow.examples.tutorials.mnist import input_data"
   ]
  },
  {
   "cell_type": "code",
   "execution_count": 40,
   "metadata": {
    "collapsed": true
   },
   "outputs": [],
   "source": [
    "%matplotlib inline\n",
    "import matplotlib.pylab as plt\n",
    "\n",
    "from tqdm import tnrange\n",
    "import numpy as np"
   ]
  },
  {
   "cell_type": "markdown",
   "metadata": {},
   "source": [
    "# Building the Network"
   ]
  },
  {
   "cell_type": "code",
   "execution_count": 30,
   "metadata": {
    "collapsed": true
   },
   "outputs": [],
   "source": [
    "# MNIST dataset consists of 28x28 grayscale images\n",
    "img_rows = 28\n",
    "img_cols = 28\n",
    "channel = 1"
   ]
  },
  {
   "cell_type": "markdown",
   "metadata": {},
   "source": [
    "## Building the Discriminator"
   ]
  },
  {
   "cell_type": "code",
   "execution_count": 31,
   "metadata": {
    "collapsed": true
   },
   "outputs": [],
   "source": [
    "depth = 64\n",
    "dropout = 0.4"
   ]
  },
  {
   "cell_type": "code",
   "execution_count": 32,
   "metadata": {
    "collapsed": false
   },
   "outputs": [
    {
     "name": "stdout",
     "output_type": "stream",
     "text": [
      "_________________________________________________________________\n",
      "Layer (type)                 Output Shape              Param #   \n",
      "=================================================================\n",
      "conv2d_13 (Conv2D)           (None, 14, 14, 64)        1664      \n",
      "_________________________________________________________________\n",
      "dropout_13 (Dropout)         (None, 14, 14, 64)        0         \n",
      "_________________________________________________________________\n",
      "conv2d_14 (Conv2D)           (None, 7, 7, 128)         204928    \n",
      "_________________________________________________________________\n",
      "dropout_14 (Dropout)         (None, 7, 7, 128)         0         \n",
      "_________________________________________________________________\n",
      "conv2d_15 (Conv2D)           (None, 4, 4, 256)         819456    \n",
      "_________________________________________________________________\n",
      "dropout_15 (Dropout)         (None, 4, 4, 256)         0         \n",
      "_________________________________________________________________\n",
      "conv2d_16 (Conv2D)           (None, 4, 4, 512)         3277312   \n",
      "_________________________________________________________________\n",
      "dropout_16 (Dropout)         (None, 4, 4, 512)         0         \n",
      "_________________________________________________________________\n",
      "flatten_4 (Flatten)          (None, 8192)              0         \n",
      "_________________________________________________________________\n",
      "dense_6 (Dense)              (None, 1)                 8193      \n",
      "_________________________________________________________________\n",
      "activation_5 (Activation)    (None, 1)                 0         \n",
      "=================================================================\n",
      "Total params: 4,311,553.0\n",
      "Trainable params: 4,311,553.0\n",
      "Non-trainable params: 0.0\n",
      "_________________________________________________________________\n"
     ]
    }
   ],
   "source": [
    "discriminator = Sequential()\n",
    "\n",
    "input_shape = (img_rows, img_cols, channel)\n",
    "\n",
    "discriminator.add(Conv2D(depth*1, 5, strides=2, \n",
    "                         input_shape=input_shape,padding='same', \n",
    "                         activation=LeakyReLU(alpha=0.2)))\n",
    "discriminator.add(Dropout(dropout))\n",
    "\n",
    "discriminator.add(Conv2D(depth*2, 5, strides=2, padding='same',\n",
    "                         activation=LeakyReLU(alpha=0.2)))\n",
    "discriminator.add(Dropout(dropout))\n",
    "\n",
    "discriminator.add(Conv2D(depth*4, 5, strides=2, padding='same',\n",
    "                         activation=LeakyReLU(alpha=0.2)))\n",
    "discriminator.add(Dropout(dropout))\n",
    "\n",
    "discriminator.add(Conv2D(depth*8, 5, strides=1, padding='same',\n",
    "                         activation=LeakyReLU(alpha=0.2)))\n",
    "discriminator.add(Dropout(dropout))\n",
    "\n",
    "discriminator.add(Flatten())\n",
    "discriminator.add(Dense(1))\n",
    "discriminator.add(Activation('sigmoid'))\n",
    "\n",
    "discriminator.summary()"
   ]
  },
  {
   "cell_type": "code",
   "execution_count": 33,
   "metadata": {
    "collapsed": false
   },
   "outputs": [],
   "source": [
    "optimizer = RMSprop(lr=0.0008, clipvalue=1.0, decay=6e-8)\n",
    "\n",
    "discriminator_model = Sequential()\n",
    "discriminator_model.add(discriminator)\n",
    "\n",
    "discriminator_model.compile(loss='binary_crossentropy', \n",
    "                            optimizer=optimizer, \n",
    "                            metrics=['accuracy'])"
   ]
  },
  {
   "cell_type": "markdown",
   "metadata": {},
   "source": [
    "## Building the Generator"
   ]
  },
  {
   "cell_type": "code",
   "execution_count": 34,
   "metadata": {
    "collapsed": true
   },
   "outputs": [],
   "source": [
    "dropout = 0.4\n",
    "depth = 64+64+64+64\n",
    "dim = 7"
   ]
  },
  {
   "cell_type": "code",
   "execution_count": 35,
   "metadata": {
    "collapsed": false
   },
   "outputs": [
    {
     "name": "stdout",
     "output_type": "stream",
     "text": [
      "_________________________________________________________________\n",
      "Layer (type)                 Output Shape              Param #   \n",
      "=================================================================\n",
      "dense_7 (Dense)              (None, 12544)             1266944   \n",
      "_________________________________________________________________\n",
      "batch_normalization_2 (Batch (None, 12544)             50176     \n",
      "_________________________________________________________________\n",
      "activation_6 (Activation)    (None, 12544)             0         \n",
      "_________________________________________________________________\n",
      "reshape_1 (Reshape)          (None, 7, 7, 256)         0         \n",
      "_________________________________________________________________\n",
      "dropout_17 (Dropout)         (None, 7, 7, 256)         0         \n",
      "_________________________________________________________________\n",
      "up_sampling2d_1 (UpSampling2 (None, 14, 14, 256)       0         \n",
      "_________________________________________________________________\n",
      "conv2d_transpose_1 (Conv2DTr (None, 14, 14, 128)       819328    \n",
      "_________________________________________________________________\n",
      "batch_normalization_3 (Batch (None, 14, 14, 128)       512       \n",
      "_________________________________________________________________\n",
      "activation_7 (Activation)    (None, 14, 14, 128)       0         \n",
      "_________________________________________________________________\n",
      "up_sampling2d_2 (UpSampling2 (None, 28, 28, 128)       0         \n",
      "_________________________________________________________________\n",
      "conv2d_transpose_2 (Conv2DTr (None, 28, 28, 64)        204864    \n",
      "_________________________________________________________________\n",
      "batch_normalization_4 (Batch (None, 28, 28, 64)        256       \n",
      "_________________________________________________________________\n",
      "activation_8 (Activation)    (None, 28, 28, 64)        0         \n",
      "_________________________________________________________________\n",
      "conv2d_transpose_3 (Conv2DTr (None, 28, 28, 32)        51232     \n",
      "_________________________________________________________________\n",
      "batch_normalization_5 (Batch (None, 28, 28, 32)        128       \n",
      "_________________________________________________________________\n",
      "activation_9 (Activation)    (None, 28, 28, 32)        0         \n",
      "_________________________________________________________________\n",
      "conv2d_transpose_4 (Conv2DTr (None, 28, 28, 1)         801       \n",
      "_________________________________________________________________\n",
      "activation_10 (Activation)   (None, 28, 28, 1)         0         \n",
      "=================================================================\n",
      "Total params: 2,394,241.0\n",
      "Trainable params: 2,368,705.0\n",
      "Non-trainable params: 25,536.0\n",
      "_________________________________________________________________\n"
     ]
    }
   ],
   "source": [
    "generator = Sequential()\n",
    "\n",
    "generator.add(Dense(dim*dim*depth, input_dim=100))\n",
    "generator.add(BatchNormalization(momentum=0.9))\n",
    "generator.add(Activation('relu'))\n",
    "generator.add(Reshape((dim, dim, depth)))\n",
    "generator.add(Dropout(dropout))\n",
    "\n",
    "generator.add(UpSampling2D())\n",
    "generator.add(Conv2DTranspose(int(depth/2), 5, padding='same'))\n",
    "generator.add(BatchNormalization(momentum=0.9))\n",
    "generator.add(Activation('relu'))\n",
    "\n",
    "generator.add(UpSampling2D())\n",
    "generator.add(Conv2DTranspose(int(depth/4), 5, padding='same'))\n",
    "generator.add(BatchNormalization(momentum=0.9))\n",
    "generator.add(Activation('relu'))\n",
    "\n",
    "generator.add(Conv2DTranspose(int(depth/8), 5, padding='same'))\n",
    "generator.add(BatchNormalization(momentum=0.9))\n",
    "generator.add(Activation('relu'))\n",
    "\n",
    "generator.add(Conv2DTranspose(1, 5, padding='same'))\n",
    "generator.add(Activation('sigmoid'))\n",
    "\n",
    "generator.summary()"
   ]
  },
  {
   "cell_type": "markdown",
   "metadata": {},
   "source": [
    "## Building the Adverserial\n",
    "The adversarial model is build by combining both the discriminator and generator"
   ]
  },
  {
   "cell_type": "code",
   "execution_count": 37,
   "metadata": {
    "collapsed": false
   },
   "outputs": [],
   "source": [
    "optimizer = RMSprop(lr=0.0004, clipvalue=1.0, decay=3e-8)\n",
    "\n",
    "adversarial_model = Sequential()\n",
    "adversarial_model.add(generator)\n",
    "adversarial_model.add(discriminator)\n",
    "\n",
    "adversarial_model.compile(loss='binary_crossentropy', \n",
    "                          optimizer=optimizer,\n",
    "                          metrics=['accuracy'])"
   ]
  },
  {
   "cell_type": "markdown",
   "metadata": {},
   "source": [
    "# Train the Network"
   ]
  },
  {
   "cell_type": "code",
   "execution_count": 41,
   "metadata": {
    "collapsed": false
   },
   "outputs": [
    {
     "name": "stdout",
     "output_type": "stream",
     "text": [
      "Extracting mnist/train-images-idx3-ubyte.gz\n",
      "Extracting mnist/train-labels-idx1-ubyte.gz\n",
      "Extracting mnist/t10k-images-idx3-ubyte.gz\n",
      "Extracting mnist/t10k-labels-idx1-ubyte.gz\n"
     ]
    }
   ],
   "source": [
    "x_train = input_data.read_data_sets(\"mnist\", one_hot=True).train.images\n",
    "x_train = x_train.reshape(-1, img_rows, img_cols, 1).astype(np.float32)"
   ]
  },
  {
   "cell_type": "code",
   "execution_count": 44,
   "metadata": {
    "collapsed": true
   },
   "outputs": [],
   "source": [
    "def train(batch_size=256, train_steps=2000):\n",
    "    discriminator_losses = []\n",
    "    adversarial_losses = []\n",
    "    \n",
    "    for i in tnrange(train_steps):\n",
    "        # Select a random sample from the training data\n",
    "        images_train = x_train[np.random.randint(0, x_train.shape[0], size=batch_size), :, :, :]\n",
    "        # Create noise in range -1 to 1 as input for the generator to generate the fake images\n",
    "        noise = np.random.uniform(-1.0, 1.0, size=[batch_size, 100])\n",
    "        images_fake = generator.predict(noise)\n",
    "        \n",
    "        # Create input by concatenate both real and fake images and assigning the respective labels\n",
    "        input_data = np.concatenate((images_train, images_fake))\n",
    "        input_labels = np.ones([2*batch_size, 1])\n",
    "        input_labels[batch_size:, :] = 0\n",
    "        discriminator_loss = discriminator_model.train_on_batch(input_data, input_labels)\n",
    "        \n",
    "        # Train the adversarial model to generate more\n",
    "        input_labels = np.ones([batch_size, 1])\n",
    "        noise = np.random.uniform(-1.0, 1.0, size=[batch_size, 100])\n",
    "        adversarial_loss = adversarial_model.train_on_batch(noise, input_labels)\n",
    "        \n",
    "        discriminator_losses.append(discriminator_loss)\n",
    "        adversarial_losses.append(adversarial_loss)\n",
    "    \n",
    "    return discriminator_losses, adversarial_losses"
   ]
  },
  {
   "cell_type": "code",
   "execution_count": 45,
   "metadata": {
    "collapsed": false
   },
   "outputs": [
    {
     "name": "stdout",
     "output_type": "stream",
     "text": [
      "\n"
     ]
    }
   ],
   "source": [
    "discriminator_losses, adversarial_losses = train(train_steps=10)"
   ]
  },
  {
   "cell_type": "markdown",
   "metadata": {},
   "source": [
    "## Plot Training History"
   ]
  },
  {
   "cell_type": "code",
   "execution_count": 58,
   "metadata": {
    "collapsed": false
   },
   "outputs": [
    {
     "data": {
      "text/plain": [
       "<matplotlib.legend.Legend at 0x7f60ad33d160>"
      ]
     },
     "execution_count": 58,
     "metadata": {},
     "output_type": "execute_result"
    },
    {
     "data": {
      "image/png": "[encoded data removed]",
      "text/plain": [
       "<matplotlib.figure.Figure at 0x7f60ad298208>"
      ]
     },
     "metadata": {},
     "output_type": "display_data"
    }
   ],
   "source": [
    "plt.figure(figsize=(20,5))\n",
    "\n",
    "plt.subplot(1,2,1)\n",
    "plt.plot(np.array(discriminator_losses)[:, 0], label=\"Discriminator Losses\")\n",
    "plt.plot(np.array(discriminator_losses)[:, 1], label=\"Discriminator Accuracy\")\n",
    "plt.legend()\n",
    "\n",
    "plt.subplot(1,2,2)\n",
    "plt.plot(np.array(adversarial_losses)[:, 0], label=\"Adveserial Losses\")\n",
    "plt.plot(np.array(adversarial_losses)[:, 1], label=\"Adveserial Accuracy\")\n",
    "plt.legend()"
   ]
  },
  {
   "cell_type": "markdown",
   "metadata": {},
   "source": [
    "# Generating Images"
   ]
  },
  {
   "cell_type": "code",
   "execution_count": 76,
   "metadata": {
    "collapsed": false
   },
   "outputs": [
    {
     "data": {
      "image/png": "[encoded data removed]",
      "text/plain": [
       "<matplotlib.figure.Figure at 0x7f60ac8813c8>"
      ]
     },
     "metadata": {},
     "output_type": "display_data"
    }
   ],
   "source": [
    "noise = np.random.uniform(-1.0, 1.0, size=[10, 100])\n",
    "fake_images = generator.predict(noise)\n",
    "\n",
    "plt.figure(figsize=(20,10))\n",
    "for i, fake_image in enumerate(fake_images, 1):\n",
    "    plt.subplot(2, 5, i)\n",
    "    plt.imshow(np.reshape(fake_image, (img_cols, img_rows)), cmap='gray')\n",
    "    plt.axis('off')"
   ]
  }
 ],
 "metadata": {
  "anaconda-cloud": {},
  "kernelspec": {
   "display_name": "Python [conda env:ai]",
   "language": "python",
   "name": "conda-env-ai-py"
  },
  "language_info": {
   "codemirror_mode": {
    "name": "ipython",
    "version": 3
   },
   "file_extension": ".py",
   "mimetype": "text/x-python",
   "name": "python",
   "nbconvert_exporter": "python",
   "pygments_lexer": "ipython3",
   "version": "3.5.2"
  },
  "widgets": {
   "state": {
    "0c84ce278a6c49ddb1719d6e2082a3ce": {
     "views": []
    },
    "178bb74907ca4a4ba5b371f141e23fc7": {
     "views": []
    },
    "18eb0317c861477a8c69d09451980b45": {
     "views": []
    },
    "2e19d1896d454128a61adcc925a44e89": {
     "views": []
    },
    "31ea4d0ceb1f478caaa20f65adffee9a": {
     "views": []
    },
    "328f73774e004fdaa8e71a414bf8960e": {
     "views": [
      {
       "cell_index": 17
      }
     ]
    },
    "69549b82d6ca445fba54f2224baaf480": {
     "views": []
    },
    "88210d7ae97e474d8be1106bc1075aef": {
     "views": []
    },
    "a1c6b0f011c34ae1947815fdb5fbbf17": {
     "views": []
    },
    "b2b885e77b1941449bced0562cabe61b": {
     "views": []
    },
    "b9cdf7ea9f0843a2ab31f9df3dff0542": {
     "views": []
    },
    "f91beb0a7a174ae39fd13f5e6cb0c320": {
     "views": []
    }
   },
   "version": "1.1.2"
  }
 },
 "nbformat": 4,
 "nbformat_minor": 2
}
